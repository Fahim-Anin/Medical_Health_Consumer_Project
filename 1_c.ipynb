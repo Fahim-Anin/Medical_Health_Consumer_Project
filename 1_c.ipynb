{
  "nbformat": 4,
  "nbformat_minor": 0,
  "metadata": {
    "colab": {
      "provenance": [],
      "authorship_tag": "ABX9TyNHnekr7RYWf7UsWz8oAm9b",
      "include_colab_link": true
    },
    "kernelspec": {
      "name": "python3",
      "display_name": "Python 3"
    },
    "language_info": {
      "name": "python"
    }
  },
  "cells": [
    {
      "cell_type": "markdown",
      "metadata": {
        "id": "view-in-github",
        "colab_type": "text"
      },
      "source": [
        "<a href=\"https://colab.research.google.com/github/Fahim-Anin/Medical_Health_Insurance_Project/blob/main/1_c.ipynb\" target=\"_parent\"><img src=\"https://colab.research.google.com/assets/colab-badge.svg\" alt=\"Open In Colab\"/></a>"
      ]
    },
    {
      "cell_type": "code",
      "execution_count": null,
      "metadata": {
        "colab": {
          "base_uri": "https://localhost:8080/",
          "height": 93
        },
        "id": "6zuCGZFCvWBp",
        "outputId": "5d9b6c89-247a-4e8b-ae50-04f31607f83a"
      },
      "outputs": [
        {
          "output_type": "display_data",
          "data": {
            "text/plain": [
              "<IPython.core.display.HTML object>"
            ],
            "text/html": [
              "\n",
              "     <input type=\"file\" id=\"files-48df7d88-b21d-424e-af6c-8e7500f26441\" name=\"files[]\" multiple disabled\n",
              "        style=\"border:none\" />\n",
              "     <output id=\"result-48df7d88-b21d-424e-af6c-8e7500f26441\">\n",
              "      Upload widget is only available when the cell has been executed in the\n",
              "      current browser session. Please rerun this cell to enable.\n",
              "      </output>\n",
              "      <script>// Copyright 2017 Google LLC\n",
              "//\n",
              "// Licensed under the Apache License, Version 2.0 (the \"License\");\n",
              "// you may not use this file except in compliance with the License.\n",
              "// You may obtain a copy of the License at\n",
              "//\n",
              "//      http://www.apache.org/licenses/LICENSE-2.0\n",
              "//\n",
              "// Unless required by applicable law or agreed to in writing, software\n",
              "// distributed under the License is distributed on an \"AS IS\" BASIS,\n",
              "// WITHOUT WARRANTIES OR CONDITIONS OF ANY KIND, either express or implied.\n",
              "// See the License for the specific language governing permissions and\n",
              "// limitations under the License.\n",
              "\n",
              "/**\n",
              " * @fileoverview Helpers for google.colab Python module.\n",
              " */\n",
              "(function(scope) {\n",
              "function span(text, styleAttributes = {}) {\n",
              "  const element = document.createElement('span');\n",
              "  element.textContent = text;\n",
              "  for (const key of Object.keys(styleAttributes)) {\n",
              "    element.style[key] = styleAttributes[key];\n",
              "  }\n",
              "  return element;\n",
              "}\n",
              "\n",
              "// Max number of bytes which will be uploaded at a time.\n",
              "const MAX_PAYLOAD_SIZE = 100 * 1024;\n",
              "\n",
              "function _uploadFiles(inputId, outputId) {\n",
              "  const steps = uploadFilesStep(inputId, outputId);\n",
              "  const outputElement = document.getElementById(outputId);\n",
              "  // Cache steps on the outputElement to make it available for the next call\n",
              "  // to uploadFilesContinue from Python.\n",
              "  outputElement.steps = steps;\n",
              "\n",
              "  return _uploadFilesContinue(outputId);\n",
              "}\n",
              "\n",
              "// This is roughly an async generator (not supported in the browser yet),\n",
              "// where there are multiple asynchronous steps and the Python side is going\n",
              "// to poll for completion of each step.\n",
              "// This uses a Promise to block the python side on completion of each step,\n",
              "// then passes the result of the previous step as the input to the next step.\n",
              "function _uploadFilesContinue(outputId) {\n",
              "  const outputElement = document.getElementById(outputId);\n",
              "  const steps = outputElement.steps;\n",
              "\n",
              "  const next = steps.next(outputElement.lastPromiseValue);\n",
              "  return Promise.resolve(next.value.promise).then((value) => {\n",
              "    // Cache the last promise value to make it available to the next\n",
              "    // step of the generator.\n",
              "    outputElement.lastPromiseValue = value;\n",
              "    return next.value.response;\n",
              "  });\n",
              "}\n",
              "\n",
              "/**\n",
              " * Generator function which is called between each async step of the upload\n",
              " * process.\n",
              " * @param {string} inputId Element ID of the input file picker element.\n",
              " * @param {string} outputId Element ID of the output display.\n",
              " * @return {!Iterable<!Object>} Iterable of next steps.\n",
              " */\n",
              "function* uploadFilesStep(inputId, outputId) {\n",
              "  const inputElement = document.getElementById(inputId);\n",
              "  inputElement.disabled = false;\n",
              "\n",
              "  const outputElement = document.getElementById(outputId);\n",
              "  outputElement.innerHTML = '';\n",
              "\n",
              "  const pickedPromise = new Promise((resolve) => {\n",
              "    inputElement.addEventListener('change', (e) => {\n",
              "      resolve(e.target.files);\n",
              "    });\n",
              "  });\n",
              "\n",
              "  const cancel = document.createElement('button');\n",
              "  inputElement.parentElement.appendChild(cancel);\n",
              "  cancel.textContent = 'Cancel upload';\n",
              "  const cancelPromise = new Promise((resolve) => {\n",
              "    cancel.onclick = () => {\n",
              "      resolve(null);\n",
              "    };\n",
              "  });\n",
              "\n",
              "  // Wait for the user to pick the files.\n",
              "  const files = yield {\n",
              "    promise: Promise.race([pickedPromise, cancelPromise]),\n",
              "    response: {\n",
              "      action: 'starting',\n",
              "    }\n",
              "  };\n",
              "\n",
              "  cancel.remove();\n",
              "\n",
              "  // Disable the input element since further picks are not allowed.\n",
              "  inputElement.disabled = true;\n",
              "\n",
              "  if (!files) {\n",
              "    return {\n",
              "      response: {\n",
              "        action: 'complete',\n",
              "      }\n",
              "    };\n",
              "  }\n",
              "\n",
              "  for (const file of files) {\n",
              "    const li = document.createElement('li');\n",
              "    li.append(span(file.name, {fontWeight: 'bold'}));\n",
              "    li.append(span(\n",
              "        `(${file.type || 'n/a'}) - ${file.size} bytes, ` +\n",
              "        `last modified: ${\n",
              "            file.lastModifiedDate ? file.lastModifiedDate.toLocaleDateString() :\n",
              "                                    'n/a'} - `));\n",
              "    const percent = span('0% done');\n",
              "    li.appendChild(percent);\n",
              "\n",
              "    outputElement.appendChild(li);\n",
              "\n",
              "    const fileDataPromise = new Promise((resolve) => {\n",
              "      const reader = new FileReader();\n",
              "      reader.onload = (e) => {\n",
              "        resolve(e.target.result);\n",
              "      };\n",
              "      reader.readAsArrayBuffer(file);\n",
              "    });\n",
              "    // Wait for the data to be ready.\n",
              "    let fileData = yield {\n",
              "      promise: fileDataPromise,\n",
              "      response: {\n",
              "        action: 'continue',\n",
              "      }\n",
              "    };\n",
              "\n",
              "    // Use a chunked sending to avoid message size limits. See b/62115660.\n",
              "    let position = 0;\n",
              "    do {\n",
              "      const length = Math.min(fileData.byteLength - position, MAX_PAYLOAD_SIZE);\n",
              "      const chunk = new Uint8Array(fileData, position, length);\n",
              "      position += length;\n",
              "\n",
              "      const base64 = btoa(String.fromCharCode.apply(null, chunk));\n",
              "      yield {\n",
              "        response: {\n",
              "          action: 'append',\n",
              "          file: file.name,\n",
              "          data: base64,\n",
              "        },\n",
              "      };\n",
              "\n",
              "      let percentDone = fileData.byteLength === 0 ?\n",
              "          100 :\n",
              "          Math.round((position / fileData.byteLength) * 100);\n",
              "      percent.textContent = `${percentDone}% done`;\n",
              "\n",
              "    } while (position < fileData.byteLength);\n",
              "  }\n",
              "\n",
              "  // All done.\n",
              "  yield {\n",
              "    response: {\n",
              "      action: 'complete',\n",
              "    }\n",
              "  };\n",
              "}\n",
              "\n",
              "scope.google = scope.google || {};\n",
              "scope.google.colab = scope.google.colab || {};\n",
              "scope.google.colab._files = {\n",
              "  _uploadFiles,\n",
              "  _uploadFilesContinue,\n",
              "};\n",
              "})(self);\n",
              "</script> "
            ]
          },
          "metadata": {}
        },
        {
          "output_type": "stream",
          "name": "stdout",
          "text": [
            "Saving Star_Rating.xlsx - Star Rating 2024.csv to Star_Rating.xlsx - Star Rating 2024.csv\n"
          ]
        }
      ],
      "source": [
        "from google.colab import files\n",
        "\n",
        "# Upload the CSV file\n",
        "uploaded = files.upload()\n"
      ]
    },
    {
      "cell_type": "code",
      "source": [
        "import pandas as pd\n",
        "\n",
        "\n",
        "file_path = '/content/Star_Rating.xlsx - Star Rating 2024.csv'\n",
        "output_file_path = 'modified_2024_.csv'\n",
        "\n",
        "try:\n",
        "    # Read the CSV file into a DataFrame\n",
        "    df = pd.read_csv(file_path)\n",
        "\n",
        "    # Iterate through the rows and replace characters with 'N/A' in the second column\n",
        "    for index, row in df.iterrows():\n",
        "        if any(c.isalpha() for c in str(row['2024 Overall'])):\n",
        "            df.at[index, '2024 Overall'] = 'N/A'\n",
        "\n",
        "    # Save the modified DataFrame to a new CSV file\n",
        "    df.to_csv(output_file_path, index=False)\n",
        "    print(\"File successfully processed and saved.\")\n",
        "except Exception as e:\n",
        "    print(f\"An error occurred: {e}\")\n",
        "files.download('modified_2024_.csv')"
      ],
      "metadata": {
        "id": "LqkXLgUhDdcM"
      },
      "execution_count": null,
      "outputs": []
    },
    {
      "cell_type": "code",
      "source": [
        "import pandas as pd\n",
        "import random\n",
        "\n",
        "# Load the CSV file\n",
        "csv_file_path = '/content/Star_Rating.xlsx - Star Rating 2024.csv'\n",
        "df = pd.read_csv(csv_file_path)\n",
        "output_file_path = '_snp_2024_.csv'\n",
        "# Generate random values for SNP column (Yes or No)\n",
        "df['SNP'] = [random.choice(['Yes', 'No']) for _ in range(len(df))]\n",
        "\n",
        "# Generate random integer values for Enrollment column (over 900 to less than 400000)\n",
        "df['Enrollment'] = [random.randint(901, 399999) for _ in range(len(df))]\n",
        "\n",
        "df = df[['Contract Number', 'SNP', 'Enrollment', '2024 Overall']]\n",
        "# Save the modified DataFrame back to the CSV file\n",
        "df.to_csv(output_file_path, index=False)\n",
        "\n",
        "print(\"CSV file updated successfully.\")\n",
        "files.download('_snp_2024_.csv')"
      ],
      "metadata": {
        "id": "xsvKiVhWwVMc",
        "colab": {
          "base_uri": "https://localhost:8080/",
          "height": 34
        },
        "outputId": "0beb7008-8f8b-4b9f-cb71-a19f7a9fe5e7"
      },
      "execution_count": null,
      "outputs": [
        {
          "output_type": "stream",
          "name": "stdout",
          "text": [
            "CSV file updated successfully.\n"
          ]
        },
        {
          "output_type": "display_data",
          "data": {
            "text/plain": [
              "<IPython.core.display.Javascript object>"
            ],
            "application/javascript": [
              "\n",
              "    async function download(id, filename, size) {\n",
              "      if (!google.colab.kernel.accessAllowed) {\n",
              "        return;\n",
              "      }\n",
              "      const div = document.createElement('div');\n",
              "      const label = document.createElement('label');\n",
              "      label.textContent = `Downloading \"${filename}\": `;\n",
              "      div.appendChild(label);\n",
              "      const progress = document.createElement('progress');\n",
              "      progress.max = size;\n",
              "      div.appendChild(progress);\n",
              "      document.body.appendChild(div);\n",
              "\n",
              "      const buffers = [];\n",
              "      let downloaded = 0;\n",
              "\n",
              "      const channel = await google.colab.kernel.comms.open(id);\n",
              "      // Send a message to notify the kernel that we're ready.\n",
              "      channel.send({})\n",
              "\n",
              "      for await (const message of channel.messages) {\n",
              "        // Send a message to notify the kernel that we're ready.\n",
              "        channel.send({})\n",
              "        if (message.buffers) {\n",
              "          for (const buffer of message.buffers) {\n",
              "            buffers.push(buffer);\n",
              "            downloaded += buffer.byteLength;\n",
              "            progress.value = downloaded;\n",
              "          }\n",
              "        }\n",
              "      }\n",
              "      const blob = new Blob(buffers, {type: 'application/binary'});\n",
              "      const a = document.createElement('a');\n",
              "      a.href = window.URL.createObjectURL(blob);\n",
              "      a.download = filename;\n",
              "      div.appendChild(a);\n",
              "      a.click();\n",
              "      div.remove();\n",
              "    }\n",
              "  "
            ]
          },
          "metadata": {}
        },
        {
          "output_type": "display_data",
          "data": {
            "text/plain": [
              "<IPython.core.display.Javascript object>"
            ],
            "application/javascript": [
              "download(\"download_01648d8b-4e24-4eab-ba05-f6e768eb390f\", \"_snp_2024_.csv\", 20201)"
            ]
          },
          "metadata": {}
        }
      ]
    },
    {
      "cell_type": "code",
      "source": [
        "import pandas as pd\n",
        "\n",
        "# Load the CSV file\n",
        "csv_file_path = '/content/modified_file_2024.csv'\n",
        "df = pd.read_csv(csv_file_path)\n",
        "output_file_path='_snp_2024_.csv'\n",
        "# Rearrange columns\n",
        "df = df[['Contract Number', 'SNP', 'Enrollment', '2024 Overall']]\n",
        "\n",
        "# Save the modified DataFrame back to the CSV file\n",
        "df.to_csv(output_file_path, index=False)\n",
        "\n",
        "print(\"CSV file updated successfully.\")\n",
        "files.download('_snp_2024_.csv')"
      ],
      "metadata": {
        "id": "mTTg47Qqycxt"
      },
      "execution_count": null,
      "outputs": []
    },
    {
      "cell_type": "markdown",
      "source": [
        "Train the Model and also Fit the model"
      ],
      "metadata": {
        "id": "InK0Xw_XlddU"
      }
    },
    {
      "cell_type": "code",
      "source": [
        "import pandas as pd\n",
        "from sklearn.model_selection import train_test_split\n",
        "from sklearn.ensemble import RandomForestRegressor\n",
        "from sklearn.preprocessing import LabelEncoder\n",
        "from sklearn.metrics import mean_squared_error\n",
        "\n",
        "# Load CSV files\n",
        "csv1 = pd.read_csv('/content/_snp_2021_.csv')\n",
        "csv2 = pd.read_csv('/content/_snp_2022_.csv')\n",
        "csv3 = pd.read_csv('/content/_snp_2023_.csv')\n",
        "\n",
        "# Concatenate the first three CSV files\n",
        "combined_data = pd.concat([csv1, csv2, csv3], ignore_index=True)\n",
        "\n",
        "# Encode SNP column to integers\n",
        "label_encoder = LabelEncoder()\n",
        "combined_data['SNP'] = label_encoder.fit_transform(combined_data['SNP'])\n",
        "\n",
        "# Create X_train and y_train\n",
        "X_train = combined_data[['SNP', 'Enrollment']]\n",
        "y_train = combined_data[['2021 Overall', '2022 Overall', '2023 Overall']]\n",
        "\n",
        "# Split the data into training and testing sets\n",
        "X_train, X_test, y_train, y_test = train_test_split(X_train, y_train, test_size=0.2, random_state=42)\n",
        "\n",
        "# Train a RandomForestRegressor model\n",
        "y_train.fillna(y_train.mean(), inplace=True)\n",
        "model = RandomForestRegressor(n_estimators=100, random_state=42)\n",
        "model.fit(X_train, y_train)\n",
        "\n",
        "# Make predictions on the test set\n",
        "y_test.fillna(y_test.mean(), inplace=True)\n",
        "y_pred = model.predict(X_test)\n",
        "\n",
        "# Evaluate the model\n",
        "mse = mean_squared_error(y_test, y_pred)\n",
        "print(f'Mean Squared Error: {mse}')\n",
        "\n",
        "# Now you have a trained model that can predict Rating1, Rating2, and Rating3 based on SNP and Enrollment values.\n"
      ],
      "metadata": {
        "colab": {
          "base_uri": "https://localhost:8080/"
        },
        "id": "HaQT2axj3p6_",
        "outputId": "42a24e84-39c7-4749-f83b-fc10ad2a7dc0"
      },
      "execution_count": null,
      "outputs": [
        {
          "output_type": "stream",
          "name": "stdout",
          "text": [
            "Mean Squared Error: 1.7721836666439978\n"
          ]
        }
      ]
    },
    {
      "cell_type": "markdown",
      "source": [
        "Predict the dataset"
      ],
      "metadata": {
        "id": "016uabWDliEx"
      }
    },
    {
      "cell_type": "code",
      "source": [
        "import pandas as pd\n",
        "from sklearn.preprocessing import LabelEncoder\n",
        "from sklearn.metrics import mean_squared_error\n",
        "import joblib  # For saving and loading models\n",
        "from sklearn.preprocessing import LabelEncoder\n",
        "\n",
        "# Load the new dataset\n",
        "csv1 = pd.read_csv('/content/_snp_2021_.csv')\n",
        "csv2 = pd.read_csv('/content/_snp_2022_.csv')\n",
        "csv3 = pd.read_csv('/content/_snp_2023_.csv')\n",
        "csv4 = pd.read_csv('/content/_snp_2024_.csv')\n",
        "\n",
        "# Concatenate the first three CSV files\n",
        "combined_data = pd.concat([csv1, csv2, csv3, csv4], ignore_index=True)\n",
        "\n",
        "# Encode SNP column to integers\n",
        "label_encoder = LabelEncoder()\n",
        "combined_data['SNP'] = label_encoder.fit_transform(combined_data['SNP'])\n",
        "\n",
        "# Create X_test and y_test for the new dataset\n",
        "X_test_new = combined_data[['SNP', 'Enrollment']]\n",
        "y_test_new = combined_data[['2024 Overall']]\n",
        "\n",
        "# Make predictions using the trained model\n",
        "y_pred_new = model.predict(X_test_new)\n",
        "\n",
        "# Create a DataFrame from the NumPy array\n",
        "y_pred_new_df = pd.DataFrame(y_test_new )\n",
        "\n",
        "# Fill missing values in the predicted values\n",
        "y_pred_new_df.fillna(y_pred_new_df.mean(), inplace=True)\n",
        "\n",
        "# Calculate MSE for the new predictions\n",
        "mse_new = mean_squared_error(y_test_new, y_pred_new_df)\n",
        "\n",
        "# Print the MSE for the new predictions\n",
        "print(f'Mean Squared Error on New Data: {mse_new:.4f}')\n",
        "\n",
        "# Save the trained model for future use\n",
        "joblib.dump(model, 'trained_model.joblib')\n"
      ],
      "metadata": {
        "colab": {
          "base_uri": "https://localhost:8080/"
        },
        "id": "_y4quqVK8ymP",
        "outputId": "bbd43c1c-1be7-4959-f312-d665202b75b9"
      },
      "execution_count": null,
      "outputs": [
        {
          "output_type": "stream",
          "name": "stdout",
          "text": [
            "Mean Squared Error on New Data: 0.0000\n"
          ]
        },
        {
          "output_type": "execute_result",
          "data": {
            "text/plain": [
              "['trained_model.joblib']"
            ]
          },
          "metadata": {},
          "execution_count": 37
        }
      ]
    },
    {
      "cell_type": "code",
      "source": [
        "from sklearn.metrics import r2_score\n",
        "\n",
        "# Calculate R-squared for the new predictions\n",
        "r2 = r2_score(y_test_new, y_pred_new_df)\n",
        "\n",
        "# Print the R-squared value for the new predictions\n",
        "print(f'Accuracy {r2:.2f}')"
      ],
      "metadata": {
        "colab": {
          "base_uri": "https://localhost:8080/"
        },
        "id": "Ipyff1sXkt9O",
        "outputId": "ee59230e-1a1c-4cd5-fca0-6e776afe5098"
      },
      "execution_count": null,
      "outputs": [
        {
          "output_type": "stream",
          "name": "stdout",
          "text": [
            "Accuracy 1.00\n"
          ]
        }
      ]
    }
  ]
}